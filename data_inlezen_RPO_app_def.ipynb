{
  "cells": [
    {
      "cell_type": "markdown",
      "metadata": {
        "id": "view-in-github",
        "colab_type": "text"
      },
      "source": [
        "<a href=\"https://colab.research.google.com/github/MartinBelderBMC/RPO_Dashboard/blob/main/data_inlezen_RPO_app_def.ipynb\" target=\"_parent\"><img src=\"https://colab.research.google.com/assets/colab-badge.svg\" alt=\"Open In Colab\"/></a>"
      ]
    },
    {
      "cell_type": "code",
      "execution_count": null,
      "metadata": {
        "id": "4bJp9bLEk42t"
      },
      "outputs": [],
      "source": [
        "import os\n",
        "import pandas as pd\n",
        "import numpy as np\n",
        "\n",
        "from google.colab import drive"
      ]
    },
    {
      "cell_type": "code",
      "execution_count": null,
      "metadata": {
        "colab": {
          "base_uri": "https://localhost:8080/"
        },
        "id": "UI_lvxeYk6Lx",
        "outputId": "b4ff92a1-dae2-4d24-e34c-8cb2f52d2b79"
      },
      "outputs": [
        {
          "output_type": "stream",
          "name": "stdout",
          "text": [
            "Mounted at /content/gdrive\n"
          ]
        }
      ],
      "source": [
        "\n",
        "drive.mount('/content/gdrive')"
      ]
    },
    {
      "cell_type": "code",
      "execution_count": null,
      "metadata": {
        "id": "Aa5zR3MgvoEl"
      },
      "outputs": [],
      "source": [
        "### Mappen\n",
        "werkmap = \"/content/gdrive/Shareddrives/BMC Data en Dienstverlening/RPO Dashboard/\"\n",
        "\n",
        "schrijfmap = \"/content/gdrive/My Drive/RPO applicatie\"\n",
        "\n",
        "bewerkte_data_map = os.path.join(schrijfmap, \"data\", \"2023\")\n",
        "\n",
        "oude_leveringen_map = os.path.join(werkmap, \"data\", \"formatted_oude_inputdata\")"
      ]
    },
    {
      "cell_type": "code",
      "execution_count": null,
      "metadata": {
        "id": "TIdFtPEXCpL-"
      },
      "outputs": [],
      "source": []
    },
    {
      "cell_type": "code",
      "execution_count": null,
      "metadata": {
        "id": "FevlBiqok8zW"
      },
      "outputs": [],
      "source": [
        "#### Settings\n",
        "\n",
        "sq_jaar = 2022\n",
        "\n",
        "sq_jaar_gem = 2023"
      ]
    },
    {
      "cell_type": "code",
      "execution_count": null,
      "metadata": {
        "cellView": "form",
        "id": "uAqagd_Qk99x"
      },
      "outputs": [],
      "source": [
        "#@title\n",
        "files_p_jaar_so = {2012 :\n",
        "                    {\"Path\" : os.path.join(oude_leveringen_map, 'form_data_2012.xlsx'),\n",
        "                      \"Indexkolommen\" :\n",
        "                        {\"BRIN (instelling)\" : \"BRIN (instelling)\",\n",
        "                        \"BRIN (vestiging)\" : \"BRIN (vestiging)\",\n",
        "                        \"Soort onderwijs\" : \"Soort onderwijs\",\n",
        "                        \"Elementcode\" : \"Elementcode\",\n",
        "                        \"Afdeling\" : \"Afdeling\",\n",
        "                        \"Sector (VMBO)\" : \"Sector (VMBO)\"},\n",
        "                      \"Tellingkolommen\" :\n",
        "                        {'LJ1' : 1,\n",
        "                         'LJ2' : 2,\n",
        "                         'LJ3' : 3,\n",
        "                         'LJ4' : 4,\n",
        "                         'LJ5' : 5,\n",
        "                         'LJ6' : 6}\n",
        "                        },\n",
        "                   2013 :\n",
        "                    {\"Path\" : os.path.join(oude_leveringen_map, 'form_data_2013.xlsx'),\n",
        "                      \"Indexkolommen\" :\n",
        "                        {\"BRIN (instelling)\" : \"BRIN (instelling)\",\n",
        "                        \"BRIN (vestiging)\" : \"BRIN (vestiging)\",\n",
        "                        \"Soort onderwijs\" : \"Soort onderwijs\",\n",
        "                        \"Elementcode\" : \"Elementcode\",\n",
        "                        \"Afdeling\" : \"Afdeling\",\n",
        "                        \"Sector (VMBO)\" : \"Sector (VMBO)\"},\n",
        "                      \"Tellingkolommen\" :\n",
        "                        {'LJ1' : 1,\n",
        "                         'LJ2' : 2,\n",
        "                         'LJ3' : 3,\n",
        "                         'LJ4' : 4,\n",
        "                         'LJ5' : 5,\n",
        "                         'LJ6' : 6}\n",
        "                        },\n",
        "                   2014 :\n",
        "                    {\"Path\" : os.path.join(oude_leveringen_map, 'form_data_2014.xlsx'),\n",
        "                      \"Indexkolommen\" :\n",
        "                        {\"BRIN (instelling)\" : \"BRIN (instelling)\",\n",
        "                        \"BRIN (vestiging)\" : \"BRIN (vestiging)\",\n",
        "                        \"Soort onderwijs\" : \"Soort onderwijs\",\n",
        "                        \"Elementcode\" : \"Elementcode\",\n",
        "                        \"Afdeling\" : \"Afdeling\",\n",
        "                        \"Sector (VMBO)\" : \"Sector (VMBO)\"},\n",
        "                      \"Tellingkolommen\" :\n",
        "                        {'LJ1' : 1,\n",
        "                         'LJ2' : 2,\n",
        "                         'LJ3' : 3,\n",
        "                         'LJ4' : 4,\n",
        "                         'LJ5' : 5,\n",
        "                         'LJ6' : 6}\n",
        "                        },\n",
        "                   2015 :\n",
        "                    {\"Path\" : os.path.join(oude_leveringen_map, 'form_data_2015.xlsx'),\n",
        "                      \"Indexkolommen\" :\n",
        "                        {\"BRIN (instelling)\" : \"BRIN (instelling)\",\n",
        "                        \"BRIN (vestiging)\" : \"BRIN (vestiging)\",\n",
        "                        \"Soort onderwijs\" : \"Soort onderwijs\",\n",
        "                        \"Elementcode\" : \"Elementcode\",\n",
        "                        \"Afdeling\" : \"Afdeling\",\n",
        "                        \"Sector (VMBO)\" : \"Sector (VMBO)\"},\n",
        "                      \"Tellingkolommen\" :\n",
        "                        {'LJ1' : 1,\n",
        "                         'LJ2' : 2,\n",
        "                         'LJ3' : 3,\n",
        "                         'LJ4' : 4,\n",
        "                         'LJ5' : 5,\n",
        "                         'LJ6' : 6}\n",
        "                        },\n",
        "                   2016 :\n",
        "                    {\"Path\" : os.path.join(oude_leveringen_map, 'form_data_2016.xlsx'),\n",
        "                      \"Indexkolommen\" :\n",
        "                        {\"BRIN (instelling)\" : \"BRIN (instelling)\",\n",
        "                        \"BRIN (vestiging)\" : \"BRIN (vestiging)\",\n",
        "                        \"Soort onderwijs\" : \"Soort onderwijs\",\n",
        "                        \"Elementcode\" : \"Elementcode\",\n",
        "                        \"Afdeling\" : \"Afdeling\",\n",
        "                        \"Sector (VMBO)\" : \"Sector (VMBO)\"},\n",
        "                      \"Tellingkolommen\" :\n",
        "                        {'LJ1' : 1,\n",
        "                         'LJ2' : 2,\n",
        "                         'LJ3' : 3,\n",
        "                         'LJ4' : 4,\n",
        "                         'LJ5' : 5,\n",
        "                         'LJ6' : 6}\n",
        "                        },\n",
        "                   2017 :\n",
        "                       {\"Path\" : \"https://duo.nl/open_onderwijsdata/images/01-leerlingen-vo-per-vestiging-naar-onderwijstype-2017.xlsx\",\n",
        "                        \"Indexkolommen\" :\n",
        "                            {'BRIN NUMMER' : 'BRIN (instelling)',\n",
        "                             'VESTIGINGSNUMMER' : 'BRIN (vestiging)',\n",
        "                             'ONDERWIJSTYPE VO EN LEER- OF VERBLIJFSJAAR' : 'Soort onderwijs',\n",
        "                             'ELEMENTCODE' : 'Elementcode',\n",
        "                             'AFDELING' : 'Afdeling',\n",
        "                             'VMBO SECTOR' : 'Sector (VMBO)'},\n",
        "                        \"Tellingkolommen\" :\n",
        "                            {'LEER- OF VERBLIJFSJAAR 1 - MAN' : 1,\n",
        "                             'LEER- OF VERBLIJFSJAAR 1 - VROUW' : 1, 'LEER- OF VERBLIJFSJAAR 2 - MAN' : 2,\n",
        "                             'LEER- OF VERBLIJFSJAAR 2 - VROUW' : 2, 'LEER- OF VERBLIJFSJAAR 3 - MAN' : 3,\n",
        "                             'LEER- OF VERBLIJFSJAAR 3 - VROUW' : 3, 'LEER- OF VERBLIJFSJAAR 4 - MAN' : 4,\n",
        "                             'LEER- OF VERBLIJFSJAAR 4 - VROUW' : 4, 'LEER- OF VERBLIJFSJAAR 5 - MAN' : 5,\n",
        "                             'LEER- OF VERBLIJFSJAAR 5 - VROUW' : 5, 'LEER- OF VERBLIJFSJAAR 6 - MAN' : 5,\n",
        "                             'LEER- OF VERBLIJFSJAAR 6 - VROUW' : 6}\n",
        "                        },\n",
        "                   2018 :\n",
        "                       {\"Path\" : \"https://duo.nl/open_onderwijsdata/images/01-leerlingen-vo-per-vestiging-naar-onderwijstype-2018.xlsx\",\n",
        "                        \"Indexkolommen\" :\n",
        "                            {'BRIN NUMMER' : 'BRIN (instelling)',\n",
        "                             'VESTIGINGSNUMMER' : 'BRIN (vestiging)',\n",
        "                             'ONDERWIJSTYPE VO EN LEER- OF VERBLIJFSJAAR' : 'Soort onderwijs',\n",
        "                             'ELEMENTCODE' : 'Elementcode',\n",
        "                             'AFDELING' : 'Afdeling',\n",
        "                             'VMBO SECTOR' : 'Sector (VMBO)'},\n",
        "                        \"Tellingkolommen\" :\n",
        "                            {'LEER- OF VERBLIJFSJAAR 1 - MAN' : 1,\n",
        "                             'LEER- OF VERBLIJFSJAAR 1 - VROUW' : 1, 'LEER- OF VERBLIJFSJAAR 2 - MAN' : 2,\n",
        "                             'LEER- OF VERBLIJFSJAAR 2 - VROUW' : 2, 'LEER- OF VERBLIJFSJAAR 3 - MAN' : 3,\n",
        "                             'LEER- OF VERBLIJFSJAAR 3 - VROUW' : 3, 'LEER- OF VERBLIJFSJAAR 4 - MAN' : 4,\n",
        "                             'LEER- OF VERBLIJFSJAAR 4 - VROUW' : 4, 'LEER- OF VERBLIJFSJAAR 5 - MAN' : 5,\n",
        "                             'LEER- OF VERBLIJFSJAAR 5 - VROUW' : 5, 'LEER- OF VERBLIJFSJAAR 6 - MAN' : 5,\n",
        "                             'LEER- OF VERBLIJFSJAAR 6 - VROUW' : 6}\n",
        "                        },\n",
        "                   2019 :\n",
        "                       {\"Path\" : \"https://duo.nl/open_onderwijsdata/images/01-leerlingen-per-vestiging-naar-onderwijstype-2019.xlsx\",\n",
        "                        \"Indexkolommen\" :\n",
        "                            {'BRIN NUMMER' : 'BRIN (instelling)',\n",
        "                             'VESTIGINGSNUMMER' : 'BRIN (vestiging)',\n",
        "                             'ONDERWIJSTYPE VO EN LEER- OF VERBLIJFSJAAR' : 'Soort onderwijs',\n",
        "                             'ELEMENTCODE' : 'Elementcode',\n",
        "                             'AFDELING' : 'Afdeling',\n",
        "                             'VMBO SECTOR' : 'Sector (VMBO)'},\n",
        "                        \"Tellingkolommen\" :\n",
        "                            {'LEER- OF VERBLIJFSJAAR 1 - MAN' : 1,\n",
        "                             'LEER- OF VERBLIJFSJAAR 1 - VROUW' : 1, 'LEER- OF VERBLIJFSJAAR 2 - MAN' : 2,\n",
        "                             'LEER- OF VERBLIJFSJAAR 2 - VROUW' : 2, 'LEER- OF VERBLIJFSJAAR 3 - MAN' : 3,\n",
        "                             'LEER- OF VERBLIJFSJAAR 3 - VROUW' : 3, 'LEER- OF VERBLIJFSJAAR 4 - MAN' : 4,\n",
        "                             'LEER- OF VERBLIJFSJAAR 4 - VROUW' : 4, 'LEER- OF VERBLIJFSJAAR 5 - MAN' : 5,\n",
        "                             'LEER- OF VERBLIJFSJAAR 5 - VROUW' : 5, 'LEER- OF VERBLIJFSJAAR 6 - MAN' : 5,\n",
        "                             'LEER- OF VERBLIJFSJAAR 6 - VROUW' : 6}\n",
        "                        },\n",
        "                   2020 :\n",
        "                       {\"Path\" : \"https://duo.nl/open_onderwijsdata/images/01-leerlingen-vo-per-vestiging-naar-onderwijstype-2020.xlsx\",\n",
        "                        \"Indexkolommen\" :\n",
        "                            {'BRIN NUMMER' : 'BRIN (instelling)',\n",
        "                             'VESTIGINGSNUMMER' : 'BRIN (vestiging)',\n",
        "                             'ONDERWIJSTYPE VO EN LEER- OF VERBLIJFSJAAR' : 'Soort onderwijs',\n",
        "                             'ELEMENTCODE' : 'Elementcode',\n",
        "                             'AFDELING' : 'Afdeling',\n",
        "                             'VMBO SECTOR' : 'Sector (VMBO)'},\n",
        "                        \"Tellingkolommen\" :\n",
        "                            {'LEER- OF VERBLIJFSJAAR 1 - MAN' : 1,\n",
        "                             'LEER- OF VERBLIJFSJAAR 1 - VROUW' : 1, 'LEER- OF VERBLIJFSJAAR 2 - MAN' : 2,\n",
        "                             'LEER- OF VERBLIJFSJAAR 2 - VROUW' : 2, 'LEER- OF VERBLIJFSJAAR 3 - MAN' : 3,\n",
        "                             'LEER- OF VERBLIJFSJAAR 3 - VROUW' : 3, 'LEER- OF VERBLIJFSJAAR 4 - MAN' : 4,\n",
        "                             'LEER- OF VERBLIJFSJAAR 4 - VROUW' : 4, 'LEER- OF VERBLIJFSJAAR 5 - MAN' : 5,\n",
        "                             'LEER- OF VERBLIJFSJAAR 5 - VROUW' : 5, 'LEER- OF VERBLIJFSJAAR 6 - MAN' : 5,\n",
        "                             'LEER- OF VERBLIJFSJAAR 6 - VROUW' : 6}\n",
        "                        },\n",
        "                   2021 :\n",
        "                       {\"Path\" : \"https://duo.nl/open_onderwijsdata/images/01.-leerlingen-vo-per-vestiging-naar-onderwijstype-2021.xlsx\",\n",
        "                        \"Indexkolommen\" :\n",
        "                            {'BRIN NUMMER' : 'BRIN (instelling)',\n",
        "                             'VESTIGINGSNUMMER' : 'BRIN (vestiging)',\n",
        "                             'ONDERWIJSTYPE VO EN LEER- OF VERBLIJFSJAAR' : 'Soort onderwijs',\n",
        "                             'ELEMENTCODE' : 'Elementcode',\n",
        "                             'AFDELING' : 'Afdeling',\n",
        "                             'VMBO SECTOR' : 'Sector (VMBO)'},\n",
        "                        \"Tellingkolommen\" :\n",
        "                            {'LEER- OF VERBLIJFSJAAR 1 - MAN' : 1,\n",
        "                             'LEER- OF VERBLIJFSJAAR 1 - VROUW' : 1, 'LEER- OF VERBLIJFSJAAR 2 - MAN' : 2,\n",
        "                             'LEER- OF VERBLIJFSJAAR 2 - VROUW' : 2, 'LEER- OF VERBLIJFSJAAR 3 - MAN' : 3,\n",
        "                             'LEER- OF VERBLIJFSJAAR 3 - VROUW' : 3, 'LEER- OF VERBLIJFSJAAR 4 - MAN' : 4,\n",
        "                             'LEER- OF VERBLIJFSJAAR 4 - VROUW' : 4, 'LEER- OF VERBLIJFSJAAR 5 - MAN' : 5,\n",
        "                             'LEER- OF VERBLIJFSJAAR 5 - VROUW' : 5, 'LEER- OF VERBLIJFSJAAR 6 - MAN' : 5,\n",
        "                             'LEER- OF VERBLIJFSJAAR 6 - VROUW' : 6}\n",
        "                        },\n",
        "                   2022 :\n",
        "                       {\"Path\" : \"https://duo.nl/open_onderwijsdata/images/01.-leerlingen-vo-per-vestiging-naar-onderwijstype-2022.xlsx\",\n",
        "                        \"Indexkolommen\" :\n",
        "                            {'BRIN NUMMER' : 'BRIN (instelling)',\n",
        "                             'VESTIGINGSNUMMER' : 'BRIN (vestiging)',\n",
        "                             'ONDERWIJSTYPE VO EN LEER- OF VERBLIJFSJAAR' : 'Soort onderwijs',\n",
        "                             'ELEMENTCODE' : 'Elementcode',\n",
        "                             'AFDELING' : 'Afdeling',\n",
        "                             'VMBO SECTOR' : 'Sector (VMBO)'},\n",
        "                        \"Tellingkolommen\" :\n",
        "                            {'LEER- OF VERBLIJFSJAAR 1 - MAN' : 1,\n",
        "                             'LEER- OF VERBLIJFSJAAR 1 - VROUW' : 1, 'LEER- OF VERBLIJFSJAAR 2 - MAN' : 2,\n",
        "                             'LEER- OF VERBLIJFSJAAR 2 - VROUW' : 2, 'LEER- OF VERBLIJFSJAAR 3 - MAN' : 3,\n",
        "                             'LEER- OF VERBLIJFSJAAR 3 - VROUW' : 3, 'LEER- OF VERBLIJFSJAAR 4 - MAN' : 4,\n",
        "                             'LEER- OF VERBLIJFSJAAR 4 - VROUW' : 4, 'LEER- OF VERBLIJFSJAAR 5 - MAN' : 5,\n",
        "                             'LEER- OF VERBLIJFSJAAR 5 - VROUW' : 5, 'LEER- OF VERBLIJFSJAAR 6 - MAN' : 5,\n",
        "                             'LEER- OF VERBLIJFSJAAR 6 - VROUW' : 6}\n",
        "                        }\n",
        "\n",
        "                           }"
      ]
    },
    {
      "cell_type": "code",
      "execution_count": null,
      "metadata": {
        "cellView": "form",
        "id": "tbVWzMnLlDUV"
      },
      "outputs": [],
      "source": [
        "#@title\n",
        "\n",
        "#### Bestanden\n",
        "files_p_jaar_woonp = {2012 :\n",
        "                          {\"Path\" : os.path.join(oude_leveringen_map, 'form_data_2012.xlsx'),\n",
        "                           \"Indexkolommen\" :\n",
        "                               {\"BRIN (instelling)\" : \"BRIN (instelling)\",\n",
        "                                \"BRIN (vestiging)\" : \"BRIN (vestiging)\",\n",
        "                                'Gemeentenummer (instelling)' : 'Gemeentenummer (instelling)',\n",
        "                                'Gemeentenummer (leerling)' : 'Gemeentenummer (leerling)'},\n",
        "                            \"Tellingkolommen\" :\n",
        "                                ['LJ1','LJ2','LJ3','LJ4','LJ5','LJ6']},\n",
        "                      2013 :\n",
        "                          {\"Path\" : os.path.join(oude_leveringen_map, 'form_data_2013.xlsx'),\n",
        "                           \"Indexkolommen\" :\n",
        "                               {\"BRIN (instelling)\" : \"BRIN (instelling)\",\n",
        "                                \"BRIN (vestiging)\" : \"BRIN (vestiging)\",\n",
        "                                'Gemeentenummer (instelling)' : 'Gemeentenummer (instelling)',\n",
        "                                'Gemeentenummer (leerling)' : 'Gemeentenummer (leerling)'},\n",
        "                            \"Tellingkolommen\" :\n",
        "                                ['LJ1','LJ2','LJ3','LJ4','LJ5','LJ6']},\n",
        "                      2014 :\n",
        "                          {\"Path\" : os.path.join(oude_leveringen_map, 'form_data_2014.xlsx'),\n",
        "                           \"Indexkolommen\" :\n",
        "                               {\"BRIN (instelling)\" : \"BRIN (instelling)\",\n",
        "                                \"BRIN (vestiging)\" : \"BRIN (vestiging)\",\n",
        "                                'Gemeentenummer (instelling)' : 'Gemeentenummer (instelling)',\n",
        "                                'Gemeentenummer (leerling)' : 'Gemeentenummer (leerling)'},\n",
        "                            \"Tellingkolommen\" :\n",
        "                                ['LJ1','LJ2','LJ3','LJ4','LJ5','LJ6']},\n",
        "                      2015 :\n",
        "                          {\"Path\" : os.path.join(oude_leveringen_map, 'form_data_2015.xlsx'),\n",
        "                           \"Indexkolommen\" :\n",
        "                               {\"BRIN (instelling)\" : \"BRIN (instelling)\",\n",
        "                                \"BRIN (vestiging)\" : \"BRIN (vestiging)\",\n",
        "                                'Gemeentenummer (instelling)' : 'Gemeentenummer (instelling)',\n",
        "                                'Gemeentenummer (leerling)' : 'Gemeentenummer (leerling)'},\n",
        "                            \"Tellingkolommen\" :\n",
        "                                ['LJ1','LJ2','LJ3','LJ4','LJ5','LJ6']},\n",
        "                      2016 :\n",
        "                          {\"Path\" : os.path.join(oude_leveringen_map, 'form_data_2016.xlsx'),\n",
        "                           \"Indexkolommen\" :\n",
        "                               {\"BRIN (instelling)\" : \"BRIN (instelling)\",\n",
        "                                \"BRIN (vestiging)\" : \"BRIN (vestiging)\",\n",
        "                                'Gemeentenummer (instelling)' : 'Gemeentenummer (instelling)',\n",
        "                                'Gemeentenummer (leerling)' : 'Gemeentenummer (leerling)'},\n",
        "                            \"Tellingkolommen\" :\n",
        "                                ['LJ1','LJ2','LJ3','LJ4','LJ5','LJ6']},\n",
        "                      2017 :\n",
        "                          {\"Path\" : \"https://duo.nl/open_onderwijsdata/images/02-leerlingen-per-vestiging-naar-postcode-en-leerjaar-2017.xlsx\",\n",
        "                           \"Indexkolommen\" :\n",
        "                               {\n",
        "                                'BRIN NUMMER' : 'BRIN (instelling)',\n",
        "                                'VESTIGINGSNUMMER' : 'BRIN (vestiging)',\n",
        "                                'GEMEENTENUMMER' : 'Gemeentenummer (instelling)',\n",
        "                                'GEMEENTENUMMER LEERLING' : 'Gemeentenummer (leerling)'},\n",
        "                            \"Tellingkolommen\" :\n",
        "                                ['LEER- OF VERBLIJFSJAAR 1', 'LEER- OF VERBLIJFSJAAR 2', 'LEER- OF VERBLIJFSJAAR 3',\n",
        "                                 'LEER- OF VERBLIJFSJAAR 4', 'LEER- OF VERBLIJFSJAAR 5', 'LEER- OF VERBLIJFSJAAR 6']},\n",
        "                      2018 :\n",
        "                          {\"Path\" : \"https://duo.nl/open_onderwijsdata/images/02-leerlingen-per-vestiging-naar-postcode-en-leerjaar-2018.xlsx\",\n",
        "                           \"Indexkolommen\" :\n",
        "                                {'BRIN NUMMER' : 'BRIN (instelling)',\n",
        "                                 'VESTIGINGSNUMMER' : 'BRIN (vestiging)',\n",
        "                                 'GEMEENTENUMMER' : 'Gemeentenummer (instelling)',\n",
        "                                 'GEMEENTENUMMER LEERLING' : 'Gemeentenummer (leerling)'},\n",
        "                             \"Tellingkolommen\" :\n",
        "                                 ['LEER- OF VERBLIJFSJAAR 1', 'LEER- OF VERBLIJFSJAAR 2', 'LEER- OF VERBLIJFSJAAR 3',\n",
        "                                  'LEER- OF VERBLIJFSJAAR 4', 'LEER- OF VERBLIJFSJAAR 5', 'LEER- OF VERBLIJFSJAAR 6']},\n",
        "                      2019 :\n",
        "                          {\"Path\" : \"https://duo.nl/open_onderwijsdata/images/02-leerlingen-per-vestiging-naar-postcode-en-leerjaar-2019.xlsx\",\n",
        "                              \"Indexkolommen\" :\n",
        "                                  {'BRIN NUMMER' : 'BRIN (instelling)',\n",
        "                                   'VESTIGINGSNUMMER' : 'BRIN (vestiging)',\n",
        "                                   'GEMEENTENUMMER' : 'Gemeentenummer (instelling)',\n",
        "                                   'GEMEENTENUMMER LEERLING' : 'Gemeentenummer (leerling)'},\n",
        "                               \"Tellingkolommen\" :\n",
        "                                   ['LEER- OF VERBLIJFSJAAR 1', 'LEER- OF VERBLIJFSJAAR 2', 'LEER- OF VERBLIJFSJAAR 3',\n",
        "                                    'LEER- OF VERBLIJFSJAAR 4', 'LEER- OF VERBLIJFSJAAR 5', 'LEER- OF VERBLIJFSJAAR 6']},\n",
        "                      2020 :\n",
        "                          {\"Path\" : \"https://duo.nl/open_onderwijsdata/images/02-leerlingen-per-vestiging-naar-postcode-en-leerjaar-2020.xlsx\",\n",
        "                           \"Indexkolommen\" :\n",
        "                              {'BRIN NUMMER' : 'BRIN (instelling)',\n",
        "                               'VESTIGINGSNUMMER' : 'BRIN (vestiging)',\n",
        "                               'GEMEENTENUMMER' : 'Gemeentenummer (instelling)',\n",
        "                               'GEMEENTENUMMER LEERLING' : 'Gemeentenummer (leerling)'},\n",
        "                           \"Tellingkolommen\" :\n",
        "                               ['LEER- OF VERBLIJFSJAAR 1', 'LEER- OF VERBLIJFSJAAR 2', 'LEER- OF VERBLIJFSJAAR 3',\n",
        "                                'LEER- OF VERBLIJFSJAAR 4', 'LEER- OF VERBLIJFSJAAR 5', 'LEER- OF VERBLIJFSJAAR 6']},\n",
        "                      2021 :\n",
        "                          {\"Path\" : \"https://duo.nl/open_onderwijsdata/images/02.-leerlingen-per-vestiging-naar-postcode-en-leerjaar-2021.xlsx\",\n",
        "                           \"Indexkolommen\" :\n",
        "                              {'BRIN NUMMER' : 'BRIN (instelling)',\n",
        "                               'VESTIGINGSNUMMER' : 'BRIN (vestiging)',\n",
        "                               'GEMEENTENUMMER' : 'Gemeentenummer (instelling)',\n",
        "                               'GEMEENTENUMMER LEERLING' : 'Gemeentenummer (leerling)'},\n",
        "                           \"Tellingkolommen\" :\n",
        "                               ['LEER- OF VERBLIJFSJAAR 1', 'LEER- OF VERBLIJFSJAAR 2', 'LEER- OF VERBLIJFSJAAR 3',\n",
        "                                'LEER- OF VERBLIJFSJAAR 4', 'LEER- OF VERBLIJFSJAAR 5', 'LEER- OF VERBLIJFSJAAR 6']},\n",
        "                      2022 :\n",
        "                          {\"Path\" : \"https://duo.nl/open_onderwijsdata/images/02.-leerlingen-per-vestiging-naar-postcode-en-leerjaar-2022.xlsx\",\n",
        "                           \"Indexkolommen\" :\n",
        "                              {'BRIN NUMMER' : 'BRIN (instelling)',\n",
        "                               'VESTIGINGSNUMMER' : 'BRIN (vestiging)',\n",
        "                               'GEMEENTENUMMER' : 'Gemeentenummer (instelling)',\n",
        "                               'GEMEENTENUMMER LEERLING' : 'Gemeentenummer (leerling)'},\n",
        "                           \"Tellingkolommen\" :\n",
        "                               ['LEER- OF VERBLIJFSJAAR 1', 'LEER- OF VERBLIJFSJAAR 2', 'LEER- OF VERBLIJFSJAAR 3',\n",
        "                                'LEER- OF VERBLIJFSJAAR 4', 'LEER- OF VERBLIJFSJAAR 5', 'LEER- OF VERBLIJFSJAAR 6']}\n",
        "                              }"
      ]
    },
    {
      "cell_type": "code",
      "execution_count": null,
      "metadata": {
        "id": "BIBvjAGWlUCt"
      },
      "outputs": [],
      "source": [
        "#### Voorzieningen (vestigingen)\n",
        "\n",
        "voorz_meta = {\"Path\" : \"https://duo.nl/open_onderwijsdata/images/02.-alle-vestigingen-vo.xlsx\",\n",
        "              \"Overzichtskolommen\" :\n",
        "                  {'BRIN NUMMER' : 'BRIN (instelling)',\n",
        "                   'BEVOEGD GEZAG NUMMER' : 'Nummer (bevoegd gezag)',\n",
        "                   'VESTIGINGSNUMMER' : 'BRIN (vestiging)',\n",
        "                   'BRIN NUMMER' : 'BRIN (instelling)',\n",
        "                   'GEMEENTENUMMER' : 'Gemeentenummer (instelling)',\n",
        "                   'POSTCODE' : 'Postcode (vestiging)',\n",
        "                   'STRAATNAAM' : 'Straatnaam (vestiging)',\n",
        "                   'HUISNUMMER-TOEVOEGING' : 'Huisnummer (vestiging)'}\n",
        "              }"
      ]
    },
    {
      "cell_type": "code",
      "execution_count": null,
      "metadata": {
        "id": "MPwnk7hFlWzP"
      },
      "outputs": [],
      "source": [
        "#### Naamtabel instellingen\n",
        "\n",
        "hoofdvest_meta = {\"Path\" : \"https://duo.nl/open_onderwijsdata/images/01.-hoofdvestigingen-vo.xlsx\",\n",
        "                 \"Tabelkolommen\" :\n",
        "                     {'BRIN NUMMER' : 'BRIN (instelling)',\n",
        "                      'INSTELLINGSNAAM' : 'Naam (instelling)'\n",
        "                      }\n",
        "                  }"
      ]
    },
    {
      "cell_type": "code",
      "execution_count": null,
      "metadata": {
        "id": "Hjipk8_SlaEI"
      },
      "outputs": [],
      "source": [
        "#@title\n",
        "### Naamtabel vestigingen\n",
        "\n",
        "subvest_meta = {'Bekend_als_tab' :\n",
        "                  {\"Path\" : os.path.join(werkmap, \"data\", 'hulpdata' ,\"Naamswijziging.xlsx\"),\n",
        "                   \"Tabelkolommen\" :\n",
        "                     {'BRIN_vestiging' : 'BRIN (vestiging)',\n",
        "                      'gewijzigde_naam' : 'Naam (vestiging)'}\n",
        "                  },\n",
        "                'DUO-data' :\n",
        "                  {\"Path\" : \"https://duo.nl/open_onderwijsdata/images/02.-alle-vestigingen-vo.xlsx\" ,\n",
        "                   \"Tabelkolommen\" :\n",
        "                     {'VESTIGINGSNUMMER' : 'BRIN (vestiging)',\n",
        "                      'VESTIGINGSNAAM' : 'Naam (vestiging)'}\n",
        "                   }\n",
        "                }"
      ]
    },
    {
      "cell_type": "code",
      "execution_count": null,
      "metadata": {
        "id": "qWd0-FzilbfB"
      },
      "outputs": [],
      "source": [
        "\n",
        "#### Naamtabel gemeenten\n",
        "\n",
        "gem_meta = {\"Path\" : \"https://www.cbs.nl/-/media/cbs/onze-diensten/methoden/classificaties/overig/gemeenten-alfabetisch-2023.xlsx\",\n",
        "            \"Kolommen\" :\n",
        "                {'Gemeentecode' : 'Gemeentenummer',\n",
        "                 'Gemeentenaam' : 'Gemeentenaam'}}"
      ]
    },
    {
      "cell_type": "code",
      "execution_count": null,
      "metadata": {
        "id": "u7lqBUEIldyV"
      },
      "outputs": [],
      "source": [
        "#### Bevoegd gezag tabel\n",
        "\n",
        "bev_gez_meta = {\"Path\" : \"https://duo.nl/open_onderwijsdata/images/03.-bevoegde-gezagen-vo.xlsx\",\n",
        "                \"Kolommen\" :\n",
        "                    {'BEVOEGD GEZAG NUMMER' : 'Nummer (bevoegd gezag)',\n",
        "                     'BEVOEGD GEZAG NAAM' : 'Naam (bevoegd gezag)',\n",
        "                     'DENOMINATIE' : 'Denominatie'}}"
      ]
    },
    {
      "cell_type": "code",
      "execution_count": null,
      "metadata": {
        "id": "4ZgLJQuilfiH"
      },
      "outputs": [],
      "source": [
        "#### Prognoses\n",
        "\n",
        "prog_meta = {'Path' : \"https://duo.nl/open_onderwijsdata/images/11.-leerlingenprognose-vo-vestiging-2017-2042.xlsx\",\n",
        "             'Indexkolommen' :\n",
        "                 {'VESTIGINGIGINGSCODE' : 'BRIN (vestiging)',\n",
        "                  'INSTELLINGSCODE' : 'BRIN (instelling)',\n",
        "                  'VESTIGING_GEMEENTECODE' : 'Gemeentenummer (instelling)'}}"
      ]
    },
    {
      "cell_type": "code",
      "execution_count": null,
      "metadata": {
        "id": "6001XctBjlep"
      },
      "outputs": [],
      "source": [
        "#### Gemeentefusietabel\n",
        "\n",
        "gemeentecode_fusies = {'Path' : 'https://www.cbs.nl/-/media/_excel/2020/03/gemeenten-en-corop-vanaf-1981.xlsx'}"
      ]
    },
    {
      "cell_type": "code",
      "execution_count": null,
      "metadata": {
        "id": "pTTZpokOlrmr"
      },
      "outputs": [],
      "source": [
        "#### Gemeentefusies mapping\n",
        "\n",
        "usecols_full = [f'GM{jaar}' for jaar in range(2012, sq_jaar_gem + 1)]\n",
        "\n",
        "gemeentefusie_file = pd.read_excel(gemeentecode_fusies['Path'],\n",
        "                                   header = 0,\n",
        "                                   usecols = usecols_full,\n",
        "                                   dtype = {col: object for col in usecols_full})\n",
        "\n",
        "\n",
        "fusies_mapping_p_jaar = {}\n",
        "\n",
        "for jaar in range(2012, sq_jaar_gem):\n",
        "\n",
        "    usecols = [f'GM{jaar}', f'GM{sq_jaar_gem}']\n",
        "\n",
        "    gemeentefusie_jaar = gemeentefusie_file[usecols]\n",
        "\n",
        "    fusies_mapping_p_jaar[jaar] = {oud: nieuw for oud, nieuw\n",
        "                                   in gemeentefusie_jaar.itertuples(index = False)\n",
        "                                   if not oud == nieuw}"
      ]
    },
    {
      "cell_type": "code",
      "execution_count": null,
      "metadata": {
        "id": "Ybidr-SWlh0U"
      },
      "outputs": [],
      "source": [
        "#### Onderijssoorten in bovenbouw\n",
        "\n",
        "bbouw_owsoorten = ['HAVO lj 4-5', 'VMBO GL lj 3-4', 'VMBO KL lj 3-4',\n",
        "                   'VMBO TL lj 3-4', 'VMBO BL lj 3-4',\n",
        "                   'VWO lj 4-6', 'VMBO-MBO2 lj 3-6']"
      ]
    },
    {
      "cell_type": "code",
      "execution_count": null,
      "metadata": {
        "colab": {
          "base_uri": "https://localhost:8080/"
        },
        "id": "Cvv0-0xiCv0d",
        "outputId": "94c738cc-446b-4de9-944f-8ab8c18e560c"
      },
      "outputs": [
        {
          "output_type": "stream",
          "name": "stderr",
          "text": [
            "/usr/local/lib/python3.10/dist-packages/openpyxl/styles/stylesheet.py:226: UserWarning: Workbook contains no default style, apply openpyxl's default\n",
            "  warn(\"Workbook contains no default style, apply openpyxl's default\")\n"
          ]
        }
      ],
      "source": [
        "jaar = 2022\n",
        "\n",
        "file_jaar_so = pd.read_excel(files_p_jaar_so[jaar]['Path'],\n",
        "                                 dtype = str,\n",
        "                                 header = 0,\n",
        "                                 engine = 'openpyxl',\n",
        "                                 sheet_name = 'Sheet1',\n",
        "                                 usecols = list(files_p_jaar_so[jaar]['Indexkolommen'].keys()) +\n",
        "                                           list(files_p_jaar_so[jaar]['Tellingkolommen'].keys())\n",
        "                                )"
      ]
    },
    {
      "cell_type": "code",
      "execution_count": null,
      "metadata": {
        "colab": {
          "base_uri": "https://localhost:8080/"
        },
        "id": "Zuwnc4Mql6c_",
        "outputId": "f542a233-ba4d-4192-eaf5-793cf0252566"
      },
      "outputs": [
        {
          "output_type": "stream",
          "name": "stdout",
          "text": [
            "Inlezen: SO,  2012\n",
            "Inlezen: SO,  2013\n",
            "Inlezen: SO,  2014\n",
            "Inlezen: SO,  2015\n",
            "Inlezen: SO,  2016\n",
            "Inlezen: SO,  2017\n",
            "Inlezen: SO,  2018\n",
            "Inlezen: SO,  2019\n",
            "Inlezen: SO,  2020\n",
            "Inlezen: SO,  2021\n"
          ]
        },
        {
          "output_type": "stream",
          "name": "stderr",
          "text": [
            "/usr/local/lib/python3.10/dist-packages/openpyxl/styles/stylesheet.py:226: UserWarning: Workbook contains no default style, apply openpyxl's default\n",
            "  warn(\"Workbook contains no default style, apply openpyxl's default\")\n"
          ]
        },
        {
          "output_type": "stream",
          "name": "stdout",
          "text": [
            "Inlezen: SO,  2022\n"
          ]
        },
        {
          "output_type": "stream",
          "name": "stderr",
          "text": [
            "/usr/local/lib/python3.10/dist-packages/openpyxl/styles/stylesheet.py:226: UserWarning: Workbook contains no default style, apply openpyxl's default\n",
            "  warn(\"Workbook contains no default style, apply openpyxl's default\")\n"
          ]
        }
      ],
      "source": [
        "#### Outframes met data per jaar maken\n",
        "#### Bestand per onderwijssoort\n",
        "\n",
        "# maak een lege dataframe\n",
        "out_frame_so = pd.DataFrame()\n",
        "\n",
        "# itereer door de jaren vanaf 2012\n",
        "for idx, jaar in enumerate(range(2012, sq_jaar + 1)):\n",
        "\n",
        "    print('Inlezen: SO, ',jaar)\n",
        "\n",
        "    index_use_cols = list(files_p_jaar_so[jaar]['Indexkolommen'].keys())\n",
        "\n",
        "    telling_cols = list(files_p_jaar_so[jaar]['Tellingkolommen'].keys())\n",
        "\n",
        "    # open bestand uit gespecifieerde link\n",
        "    file_jaar_so = pd.read_excel(files_p_jaar_so[jaar]['Path'],\n",
        "                                 dtype = str,\n",
        "                                 header = 0,\n",
        "                                 engine = 'openpyxl',\n",
        "                                 sheet_name = 'Sheet1',\n",
        "                                 usecols = index_use_cols +  telling_cols\n",
        "                                )\n",
        "\n",
        "    # bepaal de indexwaarden van de kolommen van file_jaar_so waar de indexwaarden\n",
        "    # van het dataframe mee worden bepaald\n",
        "    #index_use_cols = list(file_jaar_so.columns.values[:-len(files_p_jaar_so[jaar]['Tellingkolommen'].keys()):])\n",
        "\n",
        "    # stel nieuwe index in voor ingelezen jaarbestand\n",
        "    file_jaar_so.set_index(index_use_cols, inplace = True)\n",
        "\n",
        "    # 'stack' het databestand, eg. maak van kolommen een extra 'level' van index\n",
        "    # deze bewerking verandert het dataframe in een 'series'\n",
        "    file_jaar_so = file_jaar_so.stack()\n",
        "\n",
        "    # stel naam in voor laatste indexlevel\n",
        "    file_jaar_so.index.set_names(names = 'Leerjaar', level = -1, inplace = True)\n",
        "\n",
        "    # stel een naam voor de series in\n",
        "    file_jaar_so.name = 'Aantal'\n",
        "\n",
        "    # stel datatype in op integer\n",
        "    file_jaar_so = file_jaar_so.astype(int)\n",
        "\n",
        "    # Filter alle categorieËn met 0 weg\n",
        "    file_jaar_so = file_jaar_so[file_jaar_so > 0]\n",
        "\n",
        "    # bepaal het groeperingsopbject voor het aggregreren van file_jaar_so\n",
        "    group_obj_so_1 = list(range(0, len(files_p_jaar_so[jaar]['Indexkolommen'].keys()) + 1))\n",
        "\n",
        "    # aggregeer file_jaar_so en reset de index\n",
        "    file_jaar_so = file_jaar_so.groupby(level = group_obj_so_1).sum().reset_index()\n",
        "\n",
        "    # Schoon het label voor leerjaar op\n",
        "    file_jaar_so['Leerjaar'] = file_jaar_so['Leerjaar'].apply(lambda x: files_p_jaar_so[jaar]['Tellingkolommen'][x])\n",
        "\n",
        "    # Maak een kolom aan voor het jaar van de data\n",
        "    file_jaar_so['Jaar'] = jaar\n",
        "\n",
        "    # hernoem de kolommen\n",
        "    file_jaar_so.rename(columns = files_p_jaar_so[jaar]['Indexkolommen'], inplace = True)\n",
        "\n",
        "    # extraheer de vestigingscode van de 6-cijferige BRIN-code (voor het geval de vestigingscode\n",
        "    # 6-cijferig is)\n",
        "    file_jaar_so['BRIN (vestiging)'] = file_jaar_so['BRIN (vestiging)'].apply(lambda x: x[-2:])\n",
        "\n",
        "    # maak de 6-cijferige vestigingscode\n",
        "    file_jaar_so['BRIN (vestiging)'] = file_jaar_so[['BRIN (instelling)', 'BRIN (vestiging)']]\\\n",
        "                                            .apply(lambda x: x[0] + x[1], axis = 1)\n",
        "\n",
        "    # bepaal of een categorie de bovenbouw betreft\n",
        "    file_jaar_so['Bovenbouw'] = file_jaar_so[['Soort onderwijs', 'Leerjaar']]\\\n",
        "                                    .apply(lambda x: 1 if ('MBO' in x[0] and x[1] >= 3) or x[1] >= 4 else 0, axis = 1)\n",
        "\n",
        "    # # object voor nader groeperen aanmaken: alle kolommen die geen leerjaar of aantal zijn\n",
        "    # group_obj_so_2 = [file_jaar_so[col] for col in file_jaar_so.columns.values if not col in ('Aantal', 'Leerjaar')]\n",
        "\n",
        "    # # groepeer\n",
        "    # file_jaar_so = file_jaar_so['Aantal'].groupby(by = group_obj_so_2).sum().reset_index()\n",
        "\n",
        "    # concateneer aan het dataframe over alle jaren\n",
        "    out_frame_so = pd.concat([out_frame_so, file_jaar_so], axis = 0)"
      ]
    },
    {
      "cell_type": "code",
      "execution_count": null,
      "metadata": {
        "colab": {
          "base_uri": "https://localhost:8080/"
        },
        "id": "szgrVsNum0TL",
        "outputId": "16cf54a3-bdfc-44fd-ca6f-6e910916f3ee"
      },
      "outputs": [
        {
          "output_type": "stream",
          "name": "stdout",
          "text": [
            "Inlezen: woonplaats,  2012\n",
            "Inlezen: woonplaats,  2013\n",
            "Inlezen: woonplaats,  2014\n",
            "Inlezen: woonplaats,  2015\n",
            "Inlezen: woonplaats,  2016\n",
            "Inlezen: woonplaats,  2017\n",
            "Inlezen: woonplaats,  2018\n",
            "Inlezen: woonplaats,  2019\n",
            "Inlezen: woonplaats,  2020\n",
            "Inlezen: woonplaats,  2021\n"
          ]
        },
        {
          "output_type": "stream",
          "name": "stderr",
          "text": [
            "/usr/local/lib/python3.10/dist-packages/openpyxl/styles/stylesheet.py:226: UserWarning: Workbook contains no default style, apply openpyxl's default\n",
            "  warn(\"Workbook contains no default style, apply openpyxl's default\")\n"
          ]
        },
        {
          "output_type": "stream",
          "name": "stdout",
          "text": [
            "Inlezen: woonplaats,  2022\n"
          ]
        },
        {
          "output_type": "stream",
          "name": "stderr",
          "text": [
            "/usr/local/lib/python3.10/dist-packages/openpyxl/styles/stylesheet.py:226: UserWarning: Workbook contains no default style, apply openpyxl's default\n",
            "  warn(\"Workbook contains no default style, apply openpyxl's default\")\n"
          ]
        }
      ],
      "source": [
        "#### Bestand per woonplaats\n",
        "\n",
        "# maak een leeg dataframe om de frames per jaar op te concateneren\n",
        "out_frame_woonp = pd.DataFrame()\n",
        "\n",
        "# itereer door alle jaren vanaf 2012\n",
        "for idx, jaar in enumerate(range(2012, sq_jaar + 1)):\n",
        "\n",
        "    print('Inlezen: woonplaats, ',jaar)\n",
        "\n",
        "    # inlezen van databestand van vooraf gedefinieerde link\n",
        "    file_jaar_woonp = pd.read_excel(files_p_jaar_woonp[jaar]['Path'],\n",
        "                                    dtype = str,\n",
        "                                    header = 0,\n",
        "                                    engine = 'openpyxl',\n",
        "                                    sheet_name = 'Sheet1',\n",
        "                                    usecols = list(files_p_jaar_woonp[jaar]['Indexkolommen'].keys()) +\n",
        "                                              files_p_jaar_woonp[jaar]['Tellingkolommen'])\n",
        "\n",
        "\n",
        "    # aanpassen kolomnamem\n",
        "    file_jaar_woonp.rename(columns = files_p_jaar_woonp[jaar]['Indexkolommen'], inplace = True)\n",
        "\n",
        "    # aanpassen/met terugwerkende kracht fuseren gemeenten: als het jaar lager\n",
        "    # is dan het status-quo-jaar\n",
        "    if jaar <= sq_jaar:\n",
        "\n",
        "      # vervang het gemeentenummer van de instelling door de het gemeentenummer waar de gemeente in 2023 mee gefuseerd is\n",
        "      file_jaar_woonp['Gemeentenummer (instelling)'] = file_jaar_woonp['Gemeentenummer (instelling)']\\\n",
        "                                                        .apply(lambda x: fusies_mapping_p_jaar[jaar][x] if x in fusies_mapping_p_jaar[jaar].keys() else x)\n",
        "\n",
        "      # vervang het gemeentenummer van de leerling door de het gemeentenummer waar de gemeente in 2023 mee gefuseerd is\n",
        "      file_jaar_woonp['Gemeentenummer (leerling)'] = file_jaar_woonp['Gemeentenummer (leerling)']\\\n",
        "                                                      .apply(lambda x: fusies_mapping_p_jaar[jaar][x] if x in fusies_mapping_p_jaar[jaar].keys() else x)\n",
        "\n",
        "    # Bereken het totaal aantal leerlingen: over alle leer/verblijfsjaren\n",
        "    file_jaar_woonp['Aantal'] = np.sum(file_jaar_woonp[files_p_jaar_woonp[jaar]['Tellingkolommen']].astype(int), axis = 1)\n",
        "\n",
        "    # Filter alle cases met 0 tellingen weg\n",
        "    file_jaar_woonp = file_jaar_woonp[file_jaar_woonp['Aantal'] > 0]\n",
        "\n",
        "    # Bepaal de kolommen waarover moet worden geaggregeerd\n",
        "    group_obj_woonp = [file_jaar_woonp[var] for var in files_p_jaar_woonp[jaar]['Indexkolommen'].values()]\n",
        "\n",
        "    # voer aggregatie uit\n",
        "    file_jaar_woonp = file_jaar_woonp['Aantal'].groupby(group_obj_woonp).sum().to_frame()\n",
        "\n",
        "    # reset de index\n",
        "    file_jaar_woonp.reset_index(inplace = True)\n",
        "\n",
        "    # maak een kolom die het jaar aangeeft\n",
        "    file_jaar_woonp['Jaar'] = jaar\n",
        "\n",
        "    # bepaal de vestigingscode\n",
        "    file_jaar_woonp['BRIN (vestiging)'] = file_jaar_woonp['BRIN (vestiging)'].apply(lambda x: x[-2:])\n",
        "\n",
        "    # maak de vestigingsocde 6-cijferig\n",
        "    file_jaar_woonp['BRIN (vestiging)'] =\\\n",
        "      file_jaar_woonp[['BRIN (instelling)', 'BRIN (vestiging)']]\\\n",
        "        .apply(lambda x: x[0] + x[1], axis = 1)\n",
        "\n",
        "    # maak de variabele aan die aangeeft of een leerling woonachtig is binnen de gemeente waar zijn instelling staat\n",
        "    file_jaar_woonp['Woonachtig binnen gemeente instelling'] =\\\n",
        "      file_jaar_woonp[['Gemeentenummer (instelling)', 'Gemeentenummer (leerling)']]\\\n",
        "        .apply(lambda x: x[0] == x[1], axis = 1)\n",
        "\n",
        "    # concateneer het dataframe per jaar met het totaal-dataframe over alle jaren\n",
        "    out_frame_woonp = pd.concat([out_frame_woonp, file_jaar_woonp], axis = 0)"
      ]
    },
    {
      "cell_type": "code",
      "execution_count": null,
      "metadata": {
        "id": "2AIFtFtlJDPX"
      },
      "outputs": [],
      "source": [
        "# Bestand met info per bevoegd gezag maken\n",
        "\n",
        "bestuur_file = pd.read_excel(bev_gez_meta['Path'],\n",
        "                              engine = 'openpyxl',\n",
        "                              skiprows = 0,\n",
        "                              dtype = str,\n",
        "                              usecols = bev_gez_meta['Kolommen'].keys(),\n",
        "                             )\n",
        "\n",
        "bestuur_file.rename(columns = bev_gez_meta['Kolommen'], inplace = True)"
      ]
    },
    {
      "cell_type": "code",
      "execution_count": null,
      "metadata": {
        "id": "2e-0-dDsoeVV",
        "colab": {
          "base_uri": "https://localhost:8080/"
        },
        "outputId": "72a6a8c2-fe0a-4631-f6b1-6d7f58f7d850"
      },
      "outputs": [
        {
          "output_type": "stream",
          "name": "stderr",
          "text": [
            "/usr/local/lib/python3.10/dist-packages/openpyxl/styles/stylesheet.py:226: UserWarning: Workbook contains no default style, apply openpyxl's default\n",
            "  warn(\"Workbook contains no default style, apply openpyxl's default\")\n"
          ]
        }
      ],
      "source": [
        "### Voorzieningenoverzicht in jaar sq maken\n",
        "\n",
        "base_file_voorz = pd.read_excel(os.path.join(voorz_meta['Path']),\n",
        "                                engine = 'openpyxl',\n",
        "                                skiprows = 0,\n",
        "                                usecols =  voorz_meta['Overzichtskolommen'].keys(),\n",
        "                                dtype = str)\n",
        "\n",
        "base_file_voorz.rename(columns = voorz_meta['Overzichtskolommen'], inplace = True)\n",
        "\n",
        "base_file_voorz['Gemeentenummer (instelling)'] =\\\n",
        "    base_file_voorz['Gemeentenummer (instelling)']\\\n",
        "        .apply(lambda x: fusies_mapping_p_jaar[sq_jaar][x]\n",
        "                if x in fusies_mapping_p_jaar[sq_jaar].keys()\n",
        "                else x)\n",
        "\n",
        "base_file_voorz = pd.DataFrame(data = list(set(base_file_voorz[voorz_meta['Overzichtskolommen'].values()]\\\n",
        "                                               .itertuples(index = False, name = None))),\n",
        "                                columns = voorz_meta['Overzichtskolommen'].values())\n",
        "\n",
        "missings_bestuur = set(base_file_voorz['Nummer (bevoegd gezag)']) - set(bestuur_file['Nummer (bevoegd gezag)'])\n",
        "\n",
        "exp_frame_bestuur = pd.DataFrame(columns = bestuur_file.columns.values,\n",
        "                                 data = [(bev_gez, 'Onbekend: BRIN opgeheven', 'Onbekend: BRIN opgeheven') for\n",
        "                                         bev_gez in missings_bestuur])\n",
        "\n",
        "bestuur_file_exp = pd.concat([bestuur_file, exp_frame_bestuur], axis = 0)\n",
        "\n",
        "\n",
        "\n",
        "base_file_voorz = pd.merge(base_file_voorz,\n",
        "                           bestuur_file_exp,\n",
        "                           how = 'left',\n",
        "                           left_on = 'Nummer (bevoegd gezag)',\n",
        "                           right_on = 'Nummer (bevoegd gezag)')"
      ]
    },
    {
      "cell_type": "code",
      "execution_count": null,
      "metadata": {
        "id": "fazYYLK5_al3"
      },
      "outputs": [],
      "source": []
    },
    {
      "cell_type": "code",
      "execution_count": null,
      "metadata": {
        "id": "4VtJSKCyohrG",
        "colab": {
          "base_uri": "https://localhost:8080/"
        },
        "outputId": "649ca151-312f-48d8-a81b-ef06d01a3352"
      },
      "outputs": [
        {
          "output_type": "stream",
          "name": "stderr",
          "text": [
            "/usr/local/lib/python3.10/dist-packages/openpyxl/styles/stylesheet.py:226: UserWarning: Workbook contains no default style, apply openpyxl's default\n",
            "  warn(\"Workbook contains no default style, apply openpyxl's default\")\n"
          ]
        }
      ],
      "source": [
        "#### Tabel instellingsnamen\n",
        "\n",
        "tabel_instnamen = pd.read_excel(os.path.join(hoofdvest_meta['Path']),\n",
        "                                engine = 'openpyxl',\n",
        "                                skiprows = 0,\n",
        "                                usecols =  hoofdvest_meta['Tabelkolommen'].keys(),\n",
        "                                dtype = str)\n",
        "\n",
        "tabel_instnamen.rename(columns = hoofdvest_meta['Tabelkolommen'], inplace = True)\n",
        "\n",
        "tabel_instnamen['Naam (instelling)'] = tabel_instnamen.apply(lambda x: f'{x[0]}: {x[1]}', axis = 1 )"
      ]
    },
    {
      "cell_type": "code",
      "execution_count": null,
      "metadata": {
        "id": "rtVwGDA9okhw",
        "colab": {
          "base_uri": "https://localhost:8080/"
        },
        "outputId": "8191ab3d-a0c8-4738-c455-19e41dbc1d9b"
      },
      "outputs": [
        {
          "output_type": "stream",
          "name": "stderr",
          "text": [
            "/usr/local/lib/python3.10/dist-packages/openpyxl/styles/stylesheet.py:226: UserWarning: Workbook contains no default style, apply openpyxl's default\n",
            "  warn(\"Workbook contains no default style, apply openpyxl's default\")\n"
          ]
        }
      ],
      "source": [
        "#### Tabel vestigingsnamen\n",
        "\n",
        "tabel_vestnamen = pd.read_excel(subvest_meta['Bekend_als_tab']['Path'],\n",
        "                                usecols = subvest_meta['Bekend_als_tab']['Tabelkolommen'].keys(), dtype = str)\n",
        "\n",
        "tabel_vestnamen.rename(columns = subvest_meta['Bekend_als_tab']['Tabelkolommen'], inplace = True)\n",
        "\n",
        "add_brin6 = set(base_file_voorz['BRIN (vestiging)']) - set(tabel_vestnamen['BRIN (vestiging)'])\n",
        "\n",
        "tabel_vestnamen_add = pd.read_excel(subvest_meta['DUO-data']['Path'],\n",
        "                                    usecols = subvest_meta['DUO-data']['Tabelkolommen'].keys(), dtype = str)\n",
        "\n",
        "\n",
        "tabel_vestnamen_add.rename(columns = subvest_meta['DUO-data']['Tabelkolommen'], inplace = True)\n",
        "\n",
        "tabel_vestnamen_add = tabel_vestnamen_add[tabel_vestnamen_add['BRIN (vestiging)'].apply(lambda x: x in add_brin6)]\n",
        "\n",
        "\n",
        "tabel_vestnamen = pd.concat([tabel_vestnamen, tabel_vestnamen_add], axis = 0)\n",
        "\n",
        "tabel_vestnamen['Naam (vestiging)'] = tabel_vestnamen.apply(lambda x: f'{x[0]}: {x[1]}', axis = 1)"
      ]
    },
    {
      "cell_type": "code",
      "execution_count": null,
      "metadata": {
        "id": "mRJ_3SxFonZL"
      },
      "outputs": [],
      "source": [
        "#### Tabel gemeentenamen\n",
        "\n",
        "tabel_gemnamen = pd.read_excel(gem_meta['Path'], usecols = gem_meta['Kolommen'].keys(), dtype = str)\n",
        "\n",
        "tabel_gemnamen.rename(columns = gem_meta['Kolommen'], inplace = True)\n",
        "\n",
        "add_gemnamen = {'9910' : 'woonachtig in België',\n",
        "                '9920' : 'woonachtig in Duitsland',\n",
        "                '9930' : 'woonachtig elders in het buitenland',\n",
        "                '9940' : 'geen vaste woon- of verblijfplaats'}\n",
        "\n",
        "tabel_gemnamen = pd.concat([tabel_gemnamen,\n",
        "                            pd.DataFrame(columns = tabel_gemnamen.columns.values,\n",
        "                                         data = add_gemnamen.items())\n",
        "                            ],\n",
        "                           axis = 0,\n",
        "                           ignore_index = False)\n"
      ]
    },
    {
      "cell_type": "code",
      "execution_count": null,
      "metadata": {
        "id": "QZvgYWw3opXC"
      },
      "outputs": [],
      "source": [
        "#### Tabel denominaties\n",
        "\n",
        "tabel_denom = pd.read_excel(bev_gez_meta['Path'], usecols = bev_gez_meta['Kolommen'].keys(), dtype = str)\n",
        "\n",
        "tabel_denom.rename(columns = bev_gez_meta['Kolommen'], inplace = True)"
      ]
    },
    {
      "cell_type": "markdown",
      "metadata": {
        "id": "K1ez35OKeqMb"
      },
      "source": []
    },
    {
      "cell_type": "code",
      "execution_count": null,
      "metadata": {
        "id": "18I8FUv8osny"
      },
      "outputs": [],
      "source": [
        "#### Prognosedata importeren\n",
        "\n",
        "# Importeer bestand\n",
        "prognose_xls = pd.read_excel(prog_meta['Path'], dtype = object, engine = 'openpyxl')\n",
        "\n",
        "# Maak variabele 'BRIN6' door BRIN en VESTNR achter elkaar te zetten\n",
        "prognose_xls['INSTELLINGSCODE'] = prognose_xls['VESTIGINGIGINGSCODE'].apply(lambda x: x[0:4])\n",
        "\n",
        "# Hernoem columns\n",
        "prognose_xls.rename(columns = prog_meta['Indexkolommen'], inplace = True )\n",
        "\n",
        "# Stel index in\n",
        "prognose_xls.set_index(list(prog_meta['Indexkolommen'].values()), inplace = True)\n",
        "\n",
        "# Maak lege lijst waarin de prognoses per onderwijstype kunnen worden\n",
        "# weggeschreven\n",
        "subsets_prog = []\n",
        "\n",
        "# Lijst met de verschillende onderwijstype '_' om te zorgen dat alleen de juiste\n",
        "# kolommen worden geselecteerd\n",
        "vo_type_set = ['BRJ_', 'VMBO_', 'HAVO_', 'VWO_','PRO_']\n",
        "\n",
        "# iteratie door de verschillende onderwijstyopen\n",
        "for vo_type in vo_type_set:\n",
        "\n",
        "    # bepaal de set mee te nemen kolommen\n",
        "    col_set = [col for col in prognose_xls.columns.values if vo_type in col]\n",
        "\n",
        "    # bepaal per geselecteerde kolomnaam het jaar waarop deze betrekking heeft\n",
        "    jaar_set = [col[-4:] for col in prognose_xls.columns.values if vo_type in col]\n",
        "\n",
        "    # maak een versie 'subset 'van het prognosebestand aan waar de relevante kolommen\n",
        "    # alleen de jaaraanduiding als naam hebbn\n",
        "    subset = prognose_xls.rename(columns = dict(zip(col_set, jaar_set)))\n",
        "\n",
        "    # reduceer subset tot de relevante kolommen\n",
        "    subset = subset[[jaar for jaar in jaar_set if int(jaar) > sq_jaar]]\n",
        "\n",
        "    # stack de subset, eg. verander de kolommen in een extra level van de index\n",
        "    # dit verandert het Dataframe in een Series\n",
        "    subset = subset.stack()\n",
        "\n",
        "    # geef het nieuwe level van de multiindex een naam\n",
        "    subset.index.names = subset.index.names[:-1] + ['Jaar']\n",
        "\n",
        "    # stel de naam van het subset in\n",
        "    subset.name = vo_type[:-1]\n",
        "\n",
        "    # verander missende waarden in 0\n",
        "    subset.fillna(0, inplace = True)\n",
        "\n",
        "    # voeg subset toe aan de lijst met subsets\n",
        "    subsets_prog.append(subset)\n",
        "\n",
        "# concateneer de subsets tot een Dataframe\n",
        "out_file_progs = pd.concat(subsets_prog, axis = 1)\n",
        "\n",
        "# stack het Dataframe, de onderwijssoorten worden een nieuw level van de\n",
        "# multiindex. Het Dataframe wordt een Series\n",
        "out_file_progs = out_file_progs.stack()\n",
        "\n",
        "# geef het nieuwe level van de index een naam\n",
        "out_file_progs.index.names = out_file_progs.index.names[:-1] + ['Onderwijssoort']\n",
        "\n",
        "# geef de Series een naam\n",
        "out_file_progs.name = 'Aantal'\n",
        "\n",
        "# Verander punten in komma's om waarden als floats in te kunnen lezen in Tableau\n",
        "out_file_progs = out_file_progs.replace('.', ',')"
      ]
    },
    {
      "cell_type": "code",
      "execution_count": null,
      "metadata": {
        "id": "_R5WNhx2MRVX"
      },
      "outputs": [],
      "source": [
        "# set met *feitelijke* data toevoegen aan prognose\n",
        "\n",
        "# selecteer het laatst bekende set data\n",
        "subset_feitelijk = out_frame_so[out_frame_so['Jaar'] == sq_jaar].copy()\n",
        "\n",
        "# mapping laatst bekende jaar naar onderwijssoort-indeling prognose\n",
        "mapping_owsoort_prog = {'Brugjaar 1-2' : 'BRJ',\n",
        "                        'HAVO lj 4-5' : 'HAVO',\n",
        "                        'HAVO/VWO lj 3' : 'BRJ',\n",
        "                        'VWO lj 4-6' : 'VWO',\n",
        "                        'VWO uitbest. aan VAVO' : 'VWO',\n",
        "                        'Engelse Stroom' : 'VWO',\n",
        "                        'HAVO uitbest. aan VAVO' : 'HAVO',\n",
        "                        'VMBO BL lj 3-4' : 'VMBO',\n",
        "                        'VMBO GL lj 3-4' : 'VMBO',\n",
        "                        'VMBO KL lj 3-4' : 'VMBO',\n",
        "                        'VMBO TL lj 3-4' : 'VMBO',\n",
        "                        'VMBO uitbest. aan VAVO' : 'VMBO',\n",
        "                        'Praktijkonderwijs alle vj' : 'PRO',\n",
        "                        'VMBO-MBO2 lj 3-6' : 'VMBO',\n",
        "                        'Int. Baccelaureaat' : 'VWO',\n",
        "                        'European Secondary School' : 'VWO'}\n",
        "\n",
        "# voer mapping uit\n",
        "subset_feitelijk['Onderwijssoort'] = subset_feitelijk['Soort onderwijs'].apply(lambda x: mapping_owsoort_prog[x])\n",
        "\n",
        "# bepaal de brin6 uit prognose bestand\n",
        "use_brin6 = out_file_progs.index.get_level_values('BRIN (vestiging)').unique()\n",
        "\n",
        "# implementeer selectie van brin6\n",
        "select_bool  = subset_feitelijk['BRIN (vestiging)'].apply(lambda x: x in use_brin6)\n",
        "\n",
        "subset_feitelijk = subset_feitelijk.loc[select_bool].copy()\n",
        "\n",
        "# tabel maken die gemeentenummers vindt bij brin6 codes\n",
        "brin6_gemcode_tup_set = set(base_file_voorz[['BRIN (vestiging)', 'Gemeentenummer (instelling)']].itertuples(index = False, name = None))\n",
        "\n",
        "brin6_gemcode_map = {brin6: gemcode for brin6, gemcode in brin6_gemcode_tup_set}\n",
        "\n",
        "subset_feitelijk['Gemeentenummer (instelling)'] = subset_feitelijk['BRIN (vestiging)'].apply(lambda x: brin6_gemcode_map[x])\n",
        "\n",
        "\n",
        "# stel indexkolommen in\n",
        "index_cols = ['BRIN (instelling)', 'BRIN (vestiging)', 'Gemeentenummer (instelling)', 'Jaar', 'Onderwijssoort']\n",
        "\n",
        "subset_feitelijk = subset_feitelijk.set_index(index_cols)\n",
        "\n",
        "subset_feitelijk = subset_feitelijk['Aantal']\n",
        "\n",
        "out_file_progs = pd.concat([out_file_progs, subset_feitelijk], axis = 0)"
      ]
    },
    {
      "cell_type": "code",
      "execution_count": null,
      "metadata": {
        "id": "hLHd9tlbvf6p"
      },
      "outputs": [],
      "source": [
        "#niet matchende records tussen base_file en leerlingen per woonplaats vaststellen\n",
        "\n",
        "# bepaal welke kolommen worden gebruikt om te matchen\n",
        "match_columns = ['BRIN (instelling)', 'BRIN (vestiging)', 'Gemeentenummer (instelling)']\n",
        "\n",
        "# bepaal de unieke tuples van de matchkolommen in het databestand met tellingen per woonplaats\n",
        "# van de leerling\n",
        "woonp_set = set(list(out_frame_woonp[match_columns].itertuples(index = False, name = None)))\n",
        "\n",
        "# bepaal de unieke tuples van de matchkolommen in het basis(voorzieningen)bestand\n",
        "base_set = set(list(base_file_voorz[match_columns].itertuples(index = False, name = None)))\n",
        "\n",
        "# bepaal de totale set van in het basis(voorzieningen) missende tuples\n",
        "non_match_set = woonp_set - base_set\n",
        "\n",
        "# lijst om nieuwe records voor missende tuples in weg te schrijven\n",
        "non_match_records_ll_p_w = []\n",
        "\n",
        "# iteraties door de lijst niet matchende tuples\n",
        "for nm_brin4, nm_brin6, gemcode in non_match_set:\n",
        "\n",
        "    append_dict = {'BRIN (instelling)' : nm_brin4,\n",
        "                   'Nummer (bevoegd gezag)' : -99,\n",
        "                   'BRIN (vestiging)' : nm_brin6,\n",
        "                   'Gemeentenummer (instelling)' : gemcode,\n",
        "                   'Postcode (vestiging)' : 'N.V.T',\n",
        "                   'Straatnaam (vestiging)' : 'N.V.T.',\n",
        "                   'Huisnummer (vestiging)' : -99,\n",
        "                   'Naam (bevoegd gezag)' : 'Onbekend: BRIN opgeheven',\n",
        "                   'Denominatie' : 'Onbekend: BRIN opgeheven'}\n",
        "\n",
        "    # voeg toe aan lijst: dictionary met waarden\n",
        "    non_match_records_ll_p_w.append(append_dict)"
      ]
    },
    {
      "cell_type": "code",
      "execution_count": null,
      "metadata": {
        "id": "FHB5OA7Svf6q"
      },
      "outputs": [],
      "source": [
        "#niet matchende records tussen base_file en prognose vaststellen\n",
        "\n",
        "# bepaal welke kolommen worden gebruikt om te matchen\n",
        "match_columns = ['BRIN (vestiging)', 'Gemeentenummer (instelling)']\n",
        "\n",
        "# bepaal de unieke tuples van de matchkolommen in het databestand met tellingen per woonplaats\n",
        "# van de leerling\n",
        "prog_set = set(list(out_file_progs.index.to_frame()[match_columns].itertuples(index = False, name = None)))\n",
        "\n",
        "# bepaal de unieke tuples van de matchkolommen in het basis(voorzieningen)bestand\n",
        "base_set = set(list(base_file_voorz[match_columns].itertuples(index = False, name = None)))\n",
        "\n",
        "# bepaal de totale set van in het basis(voorzieningen) missende tuples\n",
        "non_match_set = prog_set - base_set\n",
        "\n",
        "# lijst om nieuwe records voor missende tuples in weg te schrijven\n",
        "non_match_records_prog = []\n",
        "\n",
        "# iteraties door de lijst niet matchende tuples\n",
        "for nm_brin6, gemcode in non_match_set:\n",
        "\n",
        "    append_dict = {'BRIN (instelling)' : nm_brin6[:4],\n",
        "                   'Nummer (bevoegd gezag)' : -99,\n",
        "                   'BRIN (vestiging)' : nm_brin6,\n",
        "                   'Gemeentenummer (instelling)' : gemcode,\n",
        "                   'Postcode (vestiging)' : 'N.V.T',\n",
        "                   'Straatnaam (vestiging)' : 'N.V.T.',\n",
        "                   'Huisnummer (vestiging)' : -99,\n",
        "                   'Naam (bevoegd gezag)' : 'Onbekend: BRIN opgeheven',\n",
        "                   'Denominatie' : 'Onbekend: BRIN opgeheven'}\n",
        "\n",
        "    # voeg toe aan lijst: dictionary met waarden\n",
        "    non_match_records_prog.append(append_dict)"
      ]
    },
    {
      "cell_type": "code",
      "source": [],
      "metadata": {
        "id": "JkhuzGYqyyBc"
      },
      "execution_count": null,
      "outputs": []
    },
    {
      "cell_type": "code",
      "execution_count": null,
      "metadata": {
        "id": "o6n-4vX1vf6q"
      },
      "outputs": [],
      "source": [
        "# maak een lijst aan met aan te vullen records uit beide bronnen\n",
        "non_match_records_full = non_match_records_ll_p_w + non_match_records_prog\n",
        "\n",
        "# maak een dataframe van non_matches record\n",
        "df_non_matches = pd.DataFrame(non_match_records_full)\n",
        "\n",
        "# verwijder evt duplicate entries\n",
        "df_non_matches.drop_duplicates(inplace = True)\n",
        "\n",
        "# maak een kolom aan die aangeeft dat records nier actueel zijn\n",
        "df_non_matches['Actuele_voorzieningen'] = False\n",
        "\n",
        "# maak een kolom in het basisbestand aan die aangeeft dat records wel actueel zijn\n",
        "base_file_voorz['Actuele_voorzieningen'] = True\n",
        "\n",
        "# concateneer het basisbestand met de niet-matchende records\n",
        "base_file_voorz = pd.concat([base_file_voorz, df_non_matches], axis = 0)"
      ]
    },
    {
      "cell_type": "code",
      "execution_count": null,
      "metadata": {
        "id": "iV0odNFKXhz6"
      },
      "outputs": [],
      "source": [
        "# oude, niet *meer* bestaande records per BRIN4 een naam geven\n",
        "\n",
        "# ontbrekende brins in namentabel vaststellen\n",
        "missing_brinnamen = set(base_file_voorz['BRIN (instelling)']) - set(tabel_instnamen['BRIN (instelling)'])\n",
        "\n",
        "# records maken: maak Series van dictionary van {ontbrekende brin: 'oude brin'}\n",
        "namen_oude_brins = pd.DataFrame(data = [(brin, f'brin {brin}, bestaat niet meer') for brin in missing_brinnamen],\n",
        "                                columns = ['BRIN (instelling)', 'Naam (instelling)'])\n",
        "\n",
        "tabel_instnamen = pd.concat([tabel_instnamen, namen_oude_brins], axis = 0, ignore_index = True)"
      ]
    },
    {
      "cell_type": "code",
      "execution_count": null,
      "metadata": {
        "id": "8u17g1OBW-zD"
      },
      "outputs": [],
      "source": [
        "# oude, niet *meer* bestaande records per BRIN6 een naam geven\n",
        "\n",
        "# ontbrekende brins in namentabel vaststellen\n",
        "missing_brin6namen = set(base_file_voorz['BRIN (vestiging)']) - set(tabel_vestnamen['BRIN (vestiging)'])\n",
        "\n",
        "# records maken: maak Series van dictionary van {ontbrekende brin: 'oude brin'}\n",
        "namen_oude_brin6s = pd.DataFrame(data = [(brin, f'brin6 {brin}, bestaat niet meer') for brin in missing_brin6namen],\n",
        "                                columns = ['BRIN (vestiging)', 'Naam (vestiging)'])\n",
        "\n",
        "tabel_vestnamen = pd.concat([tabel_vestnamen, namen_oude_brin6s], axis = 0, ignore_index = True)"
      ]
    },
    {
      "cell_type": "code",
      "execution_count": null,
      "metadata": {
        "id": "92_SO2_wvf6r"
      },
      "outputs": [],
      "source": [
        "# onbekende gemeentenamen opsporen en naam geven\n",
        "\n",
        "# missende gemeentenamen van gemeentes instellingen\n",
        "missing_gemnamen_inst = set(base_file_voorz['Gemeentenummer (instelling)']) - set(tabel_gemnamen['Gemeentenummer'])\n",
        "\n",
        "# missende gemeentenamen van woonplaatsen_leerlingen\n",
        "missing_gemnamen_ll = set(out_frame_woonp['Gemeentenummer (leerling)']) - set(tabel_gemnamen['Gemeentenummer'])\n",
        "\n",
        "missing_gemnamen_full = set(list(missing_gemnamen_inst) + list(missing_gemnamen_ll))\n",
        "\n",
        "# records maken: maak Series van dictionary van {ontbrekende gemeentenummer: 'onbekend'}\n",
        "namen_miss_gemnamen = pd.DataFrame(data = [(gn, f'gemeentenummer {gn}, geen naam') for gn in missing_gemnamen_full],\n",
        "                                   columns = ['Gemeentenummer', 'Gemeentenaam'])\n",
        "\n",
        "tabel_gemnamen = pd.concat([tabel_gemnamen, namen_miss_gemnamen], axis = 0, ignore_index = True)"
      ]
    },
    {
      "cell_type": "code",
      "execution_count": null,
      "metadata": {
        "id": "ZBMtv8cDu8Kz"
      },
      "outputs": [],
      "source": []
    },
    {
      "cell_type": "code",
      "execution_count": null,
      "metadata": {
        "id": "CUiFtBA8r67u"
      },
      "outputs": [],
      "source": [
        "out_frame_so.to_csv(os.path.join(bewerkte_data_map, 'leerlingdata_onderwijssoort.csv'),\n",
        "                    sep = ';',\n",
        "                    encoding=\"utf-8\",\n",
        "                    index = False)"
      ]
    },
    {
      "cell_type": "code",
      "execution_count": null,
      "metadata": {
        "id": "3yjOqXxQr7l3"
      },
      "outputs": [],
      "source": [
        "out_frame_woonp.to_csv(os.path.join(bewerkte_data_map, 'leerlingdata_woonp.csv'),\n",
        "                       sep = ';',\n",
        "                       encoding=\"utf-8\",\n",
        "                       index = False)"
      ]
    },
    {
      "cell_type": "code",
      "execution_count": null,
      "metadata": {
        "id": "nei4hydSr__7"
      },
      "outputs": [],
      "source": [
        "base_file_voorz.to_csv(os.path.join(bewerkte_data_map, \"voorzieningen_tabel.csv\"),\n",
        "                       sep = ';',\n",
        "                       index = False)"
      ]
    },
    {
      "cell_type": "code",
      "execution_count": null,
      "metadata": {
        "id": "llgOwtovsARW"
      },
      "outputs": [],
      "source": [
        "tabel_instnamen.to_csv(os.path.join(bewerkte_data_map, \"tabel_instellingsnamen.csv\"),\n",
        "                       sep = ';',\n",
        "                       index = False)"
      ]
    },
    {
      "cell_type": "code",
      "execution_count": null,
      "metadata": {
        "id": "Ib_yQgA6sSLj"
      },
      "outputs": [],
      "source": [
        "tabel_vestnamen.to_csv(os.path.join(bewerkte_data_map, 'tabel_vestigingsnamen.csv'),\n",
        "                      sep = ';',\n",
        "                      encoding=\"utf-8\",\n",
        "                      index = False)"
      ]
    },
    {
      "cell_type": "code",
      "execution_count": null,
      "metadata": {
        "id": "Enqb4IdPsVTq"
      },
      "outputs": [],
      "source": [
        "tabel_gemnamen.to_csv(os.path.join(bewerkte_data_map, 'tabel_gemeentenamen.csv'),\n",
        "                      sep = ';',\n",
        "                      encoding=\"utf-8\",\n",
        "                      index = False)"
      ]
    },
    {
      "cell_type": "code",
      "execution_count": null,
      "metadata": {
        "id": "HzXCddVzsYgt"
      },
      "outputs": [],
      "source": [
        "tabel_denom.to_csv(os.path.join(bewerkte_data_map, 'tabel_denominaties.csv'),\n",
        "                      sep = ';',\n",
        "                      encoding=\"utf-8\",\n",
        "                      index = False)"
      ]
    },
    {
      "cell_type": "code",
      "execution_count": null,
      "metadata": {
        "id": "DM93wiLRse25"
      },
      "outputs": [],
      "source": [
        "out_file_progs.to_csv(os.path.join(bewerkte_data_map, 'prognosedata.csv'),\n",
        "                      index = True, sep = ';',\n",
        "                      encoding=\"utf-8\"\n",
        "                      )"
      ]
    },
    {
      "cell_type": "code",
      "execution_count": null,
      "metadata": {
        "colab": {
          "base_uri": "https://localhost:8080/"
        },
        "id": "sR_Pfhh7i41-",
        "outputId": "6de1b693-8361-4634-ba04-0d2995e10a24"
      },
      "outputs": [
        {
          "output_type": "execute_result",
          "data": {
            "text/plain": [
              "BRIN (vestiging)  BRIN (instelling)  Gemeentenummer (instelling)  Jaar  Onderwijssoort\n",
              "00AH00            00AH               0153                         2023  BRJ               337.016906\n",
              "                                                                        HAVO                313.7219\n",
              "                                                                        VWO               381.937478\n",
              "                                                                  2024  BRJ               312.915275\n",
              "                                                                        HAVO              328.511339\n",
              "                                                                                             ...    \n",
              "31TK              31TK00             0758                         2022  VWO                        1\n",
              "                                                                        VWO                        1\n",
              "                                                                        VWO                        2\n",
              "                                                                        VWO                        2\n",
              "                                                                        VWO                        1\n",
              "Name: Aantal, Length: 142306, dtype: object"
            ]
          },
          "metadata": {},
          "execution_count": 41
        }
      ],
      "source": [
        "out_file_progs"
      ]
    },
    {
      "cell_type": "code",
      "execution_count": null,
      "metadata": {
        "id": "jvg7Qan20jHQ",
        "colab": {
          "base_uri": "https://localhost:8080/",
          "height": 115
        },
        "outputId": "10c5b318-299a-4854-c1be-9f16ff4cffcc"
      },
      "outputs": [
        {
          "output_type": "execute_result",
          "data": {
            "text/plain": [
              "    BRIN (instelling) Nummer (bevoegd gezag) BRIN (vestiging)  \\\n",
              "760              20FR                    -99             01VJ   \n",
              "\n",
              "    Gemeentenummer (instelling) Postcode (vestiging) Straatnaam (vestiging)  \\\n",
              "760                        0150                N.V.T                 N.V.T.   \n",
              "\n",
              "    Huisnummer (vestiging)      Naam (bevoegd gezag)  \\\n",
              "760                    -99  Onbekend: BRIN opgeheven   \n",
              "\n",
              "                  Denominatie  Actuele_voorzieningen  \n",
              "760  Onbekend: BRIN opgeheven                  False  "
            ],
            "text/html": [
              "\n",
              "  <div id=\"df-e3454b48-7a81-4fcb-ac1e-dfc8ca634906\" class=\"colab-df-container\">\n",
              "    <div>\n",
              "<style scoped>\n",
              "    .dataframe tbody tr th:only-of-type {\n",
              "        vertical-align: middle;\n",
              "    }\n",
              "\n",
              "    .dataframe tbody tr th {\n",
              "        vertical-align: top;\n",
              "    }\n",
              "\n",
              "    .dataframe thead th {\n",
              "        text-align: right;\n",
              "    }\n",
              "</style>\n",
              "<table border=\"1\" class=\"dataframe\">\n",
              "  <thead>\n",
              "    <tr style=\"text-align: right;\">\n",
              "      <th></th>\n",
              "      <th>BRIN (instelling)</th>\n",
              "      <th>Nummer (bevoegd gezag)</th>\n",
              "      <th>BRIN (vestiging)</th>\n",
              "      <th>Gemeentenummer (instelling)</th>\n",
              "      <th>Postcode (vestiging)</th>\n",
              "      <th>Straatnaam (vestiging)</th>\n",
              "      <th>Huisnummer (vestiging)</th>\n",
              "      <th>Naam (bevoegd gezag)</th>\n",
              "      <th>Denominatie</th>\n",
              "      <th>Actuele_voorzieningen</th>\n",
              "    </tr>\n",
              "  </thead>\n",
              "  <tbody>\n",
              "    <tr>\n",
              "      <th>760</th>\n",
              "      <td>20FR</td>\n",
              "      <td>-99</td>\n",
              "      <td>01VJ</td>\n",
              "      <td>0150</td>\n",
              "      <td>N.V.T</td>\n",
              "      <td>N.V.T.</td>\n",
              "      <td>-99</td>\n",
              "      <td>Onbekend: BRIN opgeheven</td>\n",
              "      <td>Onbekend: BRIN opgeheven</td>\n",
              "      <td>False</td>\n",
              "    </tr>\n",
              "  </tbody>\n",
              "</table>\n",
              "</div>\n",
              "    <div class=\"colab-df-buttons\">\n",
              "\n",
              "  <div class=\"colab-df-container\">\n",
              "    <button class=\"colab-df-convert\" onclick=\"convertToInteractive('df-e3454b48-7a81-4fcb-ac1e-dfc8ca634906')\"\n",
              "            title=\"Convert this dataframe to an interactive table.\"\n",
              "            style=\"display:none;\">\n",
              "\n",
              "  <svg xmlns=\"http://www.w3.org/2000/svg\" height=\"24px\" viewBox=\"0 -960 960 960\">\n",
              "    <path d=\"M120-120v-720h720v720H120Zm60-500h600v-160H180v160Zm220 220h160v-160H400v160Zm0 220h160v-160H400v160ZM180-400h160v-160H180v160Zm440 0h160v-160H620v160ZM180-180h160v-160H180v160Zm440 0h160v-160H620v160Z\"/>\n",
              "  </svg>\n",
              "    </button>\n",
              "\n",
              "  <style>\n",
              "    .colab-df-container {\n",
              "      display:flex;\n",
              "      gap: 12px;\n",
              "    }\n",
              "\n",
              "    .colab-df-convert {\n",
              "      background-color: #E8F0FE;\n",
              "      border: none;\n",
              "      border-radius: 50%;\n",
              "      cursor: pointer;\n",
              "      display: none;\n",
              "      fill: #1967D2;\n",
              "      height: 32px;\n",
              "      padding: 0 0 0 0;\n",
              "      width: 32px;\n",
              "    }\n",
              "\n",
              "    .colab-df-convert:hover {\n",
              "      background-color: #E2EBFA;\n",
              "      box-shadow: 0px 1px 2px rgba(60, 64, 67, 0.3), 0px 1px 3px 1px rgba(60, 64, 67, 0.15);\n",
              "      fill: #174EA6;\n",
              "    }\n",
              "\n",
              "    .colab-df-buttons div {\n",
              "      margin-bottom: 4px;\n",
              "    }\n",
              "\n",
              "    [theme=dark] .colab-df-convert {\n",
              "      background-color: #3B4455;\n",
              "      fill: #D2E3FC;\n",
              "    }\n",
              "\n",
              "    [theme=dark] .colab-df-convert:hover {\n",
              "      background-color: #434B5C;\n",
              "      box-shadow: 0px 1px 3px 1px rgba(0, 0, 0, 0.15);\n",
              "      filter: drop-shadow(0px 1px 2px rgba(0, 0, 0, 0.3));\n",
              "      fill: #FFFFFF;\n",
              "    }\n",
              "  </style>\n",
              "\n",
              "    <script>\n",
              "      const buttonEl =\n",
              "        document.querySelector('#df-e3454b48-7a81-4fcb-ac1e-dfc8ca634906 button.colab-df-convert');\n",
              "      buttonEl.style.display =\n",
              "        google.colab.kernel.accessAllowed ? 'block' : 'none';\n",
              "\n",
              "      async function convertToInteractive(key) {\n",
              "        const element = document.querySelector('#df-e3454b48-7a81-4fcb-ac1e-dfc8ca634906');\n",
              "        const dataTable =\n",
              "          await google.colab.kernel.invokeFunction('convertToInteractive',\n",
              "                                                    [key], {});\n",
              "        if (!dataTable) return;\n",
              "\n",
              "        const docLinkHtml = 'Like what you see? Visit the ' +\n",
              "          '<a target=\"_blank\" href=https://colab.research.google.com/notebooks/data_table.ipynb>data table notebook</a>'\n",
              "          + ' to learn more about interactive tables.';\n",
              "        element.innerHTML = '';\n",
              "        dataTable['output_type'] = 'display_data';\n",
              "        await google.colab.output.renderOutput(dataTable, element);\n",
              "        const docLink = document.createElement('div');\n",
              "        docLink.innerHTML = docLinkHtml;\n",
              "        element.appendChild(docLink);\n",
              "      }\n",
              "    </script>\n",
              "  </div>\n",
              "\n",
              "    </div>\n",
              "  </div>\n"
            ]
          },
          "metadata": {},
          "execution_count": 45
        }
      ],
      "source": [
        "base_file_voorz[base_file_voorz['BRIN (vestiging)'] == '01VJ']"
      ]
    },
    {
      "cell_type": "code",
      "source": [
        "df_non_matches[df_non_matches['BRIN (instelling)'] == '01VJ' ]"
      ],
      "metadata": {
        "colab": {
          "base_uri": "https://localhost:8080/",
          "height": 115
        },
        "id": "a6QhKjukPK6l",
        "outputId": "0df4ff55-6f93-42fe-bff9-d814c81bebc0"
      },
      "execution_count": null,
      "outputs": [
        {
          "output_type": "execute_result",
          "data": {
            "text/plain": [
              "   BRIN (instelling)  Nummer (bevoegd gezag) BRIN (vestiging)  \\\n",
              "70              01VJ                     -99           01VJ10   \n",
              "\n",
              "   Gemeentenummer (instelling) Postcode (vestiging) Straatnaam (vestiging)  \\\n",
              "70                        0150                N.V.T                 N.V.T.   \n",
              "\n",
              "    Huisnummer (vestiging)      Naam (bevoegd gezag)  \\\n",
              "70                     -99  Onbekend: BRIN opgeheven   \n",
              "\n",
              "                 Denominatie  Actuele_voorzieningen  \n",
              "70  Onbekend: BRIN opgeheven                  False  "
            ],
            "text/html": [
              "\n",
              "  <div id=\"df-a5e0424c-a7a0-4cda-9507-de228c289b89\" class=\"colab-df-container\">\n",
              "    <div>\n",
              "<style scoped>\n",
              "    .dataframe tbody tr th:only-of-type {\n",
              "        vertical-align: middle;\n",
              "    }\n",
              "\n",
              "    .dataframe tbody tr th {\n",
              "        vertical-align: top;\n",
              "    }\n",
              "\n",
              "    .dataframe thead th {\n",
              "        text-align: right;\n",
              "    }\n",
              "</style>\n",
              "<table border=\"1\" class=\"dataframe\">\n",
              "  <thead>\n",
              "    <tr style=\"text-align: right;\">\n",
              "      <th></th>\n",
              "      <th>BRIN (instelling)</th>\n",
              "      <th>Nummer (bevoegd gezag)</th>\n",
              "      <th>BRIN (vestiging)</th>\n",
              "      <th>Gemeentenummer (instelling)</th>\n",
              "      <th>Postcode (vestiging)</th>\n",
              "      <th>Straatnaam (vestiging)</th>\n",
              "      <th>Huisnummer (vestiging)</th>\n",
              "      <th>Naam (bevoegd gezag)</th>\n",
              "      <th>Denominatie</th>\n",
              "      <th>Actuele_voorzieningen</th>\n",
              "    </tr>\n",
              "  </thead>\n",
              "  <tbody>\n",
              "    <tr>\n",
              "      <th>70</th>\n",
              "      <td>01VJ</td>\n",
              "      <td>-99</td>\n",
              "      <td>01VJ10</td>\n",
              "      <td>0150</td>\n",
              "      <td>N.V.T</td>\n",
              "      <td>N.V.T.</td>\n",
              "      <td>-99</td>\n",
              "      <td>Onbekend: BRIN opgeheven</td>\n",
              "      <td>Onbekend: BRIN opgeheven</td>\n",
              "      <td>False</td>\n",
              "    </tr>\n",
              "  </tbody>\n",
              "</table>\n",
              "</div>\n",
              "    <div class=\"colab-df-buttons\">\n",
              "\n",
              "  <div class=\"colab-df-container\">\n",
              "    <button class=\"colab-df-convert\" onclick=\"convertToInteractive('df-a5e0424c-a7a0-4cda-9507-de228c289b89')\"\n",
              "            title=\"Convert this dataframe to an interactive table.\"\n",
              "            style=\"display:none;\">\n",
              "\n",
              "  <svg xmlns=\"http://www.w3.org/2000/svg\" height=\"24px\" viewBox=\"0 -960 960 960\">\n",
              "    <path d=\"M120-120v-720h720v720H120Zm60-500h600v-160H180v160Zm220 220h160v-160H400v160Zm0 220h160v-160H400v160ZM180-400h160v-160H180v160Zm440 0h160v-160H620v160ZM180-180h160v-160H180v160Zm440 0h160v-160H620v160Z\"/>\n",
              "  </svg>\n",
              "    </button>\n",
              "\n",
              "  <style>\n",
              "    .colab-df-container {\n",
              "      display:flex;\n",
              "      gap: 12px;\n",
              "    }\n",
              "\n",
              "    .colab-df-convert {\n",
              "      background-color: #E8F0FE;\n",
              "      border: none;\n",
              "      border-radius: 50%;\n",
              "      cursor: pointer;\n",
              "      display: none;\n",
              "      fill: #1967D2;\n",
              "      height: 32px;\n",
              "      padding: 0 0 0 0;\n",
              "      width: 32px;\n",
              "    }\n",
              "\n",
              "    .colab-df-convert:hover {\n",
              "      background-color: #E2EBFA;\n",
              "      box-shadow: 0px 1px 2px rgba(60, 64, 67, 0.3), 0px 1px 3px 1px rgba(60, 64, 67, 0.15);\n",
              "      fill: #174EA6;\n",
              "    }\n",
              "\n",
              "    .colab-df-buttons div {\n",
              "      margin-bottom: 4px;\n",
              "    }\n",
              "\n",
              "    [theme=dark] .colab-df-convert {\n",
              "      background-color: #3B4455;\n",
              "      fill: #D2E3FC;\n",
              "    }\n",
              "\n",
              "    [theme=dark] .colab-df-convert:hover {\n",
              "      background-color: #434B5C;\n",
              "      box-shadow: 0px 1px 3px 1px rgba(0, 0, 0, 0.15);\n",
              "      filter: drop-shadow(0px 1px 2px rgba(0, 0, 0, 0.3));\n",
              "      fill: #FFFFFF;\n",
              "    }\n",
              "  </style>\n",
              "\n",
              "    <script>\n",
              "      const buttonEl =\n",
              "        document.querySelector('#df-a5e0424c-a7a0-4cda-9507-de228c289b89 button.colab-df-convert');\n",
              "      buttonEl.style.display =\n",
              "        google.colab.kernel.accessAllowed ? 'block' : 'none';\n",
              "\n",
              "      async function convertToInteractive(key) {\n",
              "        const element = document.querySelector('#df-a5e0424c-a7a0-4cda-9507-de228c289b89');\n",
              "        const dataTable =\n",
              "          await google.colab.kernel.invokeFunction('convertToInteractive',\n",
              "                                                    [key], {});\n",
              "        if (!dataTable) return;\n",
              "\n",
              "        const docLinkHtml = 'Like what you see? Visit the ' +\n",
              "          '<a target=\"_blank\" href=https://colab.research.google.com/notebooks/data_table.ipynb>data table notebook</a>'\n",
              "          + ' to learn more about interactive tables.';\n",
              "        element.innerHTML = '';\n",
              "        dataTable['output_type'] = 'display_data';\n",
              "        await google.colab.output.renderOutput(dataTable, element);\n",
              "        const docLink = document.createElement('div');\n",
              "        docLink.innerHTML = docLinkHtml;\n",
              "        element.appendChild(docLink);\n",
              "      }\n",
              "    </script>\n",
              "  </div>\n",
              "\n",
              "    </div>\n",
              "  </div>\n"
            ]
          },
          "metadata": {},
          "execution_count": 47
        }
      ]
    },
    {
      "cell_type": "code",
      "source": [],
      "metadata": {
        "id": "Oa8-NPrxQ_L4"
      },
      "execution_count": null,
      "outputs": []
    }
  ],
  "metadata": {
    "colab": {
      "provenance": [],
      "include_colab_link": true
    },
    "kernelspec": {
      "display_name": "Python 3 (ipykernel)",
      "language": "python",
      "name": "python3"
    },
    "language_info": {
      "codemirror_mode": {
        "name": "ipython",
        "version": 3
      },
      "file_extension": ".py",
      "mimetype": "text/x-python",
      "name": "python",
      "nbconvert_exporter": "python",
      "pygments_lexer": "ipython3",
      "version": "3.9.13"
    }
  },
  "nbformat": 4,
  "nbformat_minor": 0
}